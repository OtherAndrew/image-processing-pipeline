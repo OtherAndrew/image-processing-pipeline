{
 "cells": [
  {
   "cell_type": "code",
   "execution_count": 1,
   "metadata": {},
   "outputs": [
    {
     "name": "stdout",
     "output_type": "stream",
     "text": [
      "------------------------------------------------------\n",
      "             Welcome to FaaSET v3.1!\n",
      "------------------------------------------------------\n",
      "Available platforms:  aws_docker_arm. aws_docker_debian. archive. azure. aws_function_url. aws_docker. google_gen2. ibm. local. aws_api_gateway. aws_boto3. aws. google_gen1. \n",
      "------------------------------------------------------\n",
      "Loaded functions:  skyf_128_arm. skyf_4096_x86. skyf_1024_x86_redeploy. skyf_8192_arm. skyf_512_arm. skyf_256_x86_redeploy. skyf_6144_arm. hello_world. skyf_10240_arm. skyf_2048_x86_redeploy. skyf_10240_x86. skyf_6144_x86. skyf_8192_x86. skyf_512_x86. fast_experiment (Unknown). skyf_128_x86. skyf_4096_arm. skyf_10240_x86_redeploy. skyf_2048_x86. skyf_4096_x86_redeploy. skyf_1024_x86. dynamic_function2. dynamic_function3. skyf_256_x86. skyf_6144_x86_redeploy. skyf_512_x86_redeploy. skyf_256_arm. skyf_8192_x86_redeploy. skyf_128_x86_redeploy. skyf_2048_arm. skyf_1024_arm. dynamic_function3_arm. \n"
     ]
    }
   ],
   "source": [
    "import FaaSET\n",
    "import FaaSRunner\n",
    "import json\n",
    "\n",
    "regions = {\n",
    "    \"af-south-1\": {\"lat\": -34.0486, \"lon\": 18.4811},\n",
    "    \"ap-east-1\": {\"lat\": 22.285521, \"lon\": 114.157692},\n",
    "    \"ap-northeast-1\": {\"lat\": 35.6893, \"lon\": 139.6899},\n",
    "    \"ap-northeast-2\": {\"lat\": 37.4585, \"lon\": 126.7015},\n",
    "    \"ap-northeast-3\": {\"lat\": 34.6946, \"lon\": 135.5021},\n",
    "    \"ap-south-1\": {\"lat\": 19.0748, \"lon\": 72.8856},\n",
    "    \"ap-southeast-1\": {\"lat\": 1.3036, \"lon\": 103.8554},\n",
    "    \"ap-southeast-2\": {\"lat\": -33.8715, \"lon\": 151.2006},\n",
    "    \"ca-central-1\": {\"lat\": 45.4995, \"lon\": -73.5848},\n",
    "    \"eu-central-1\": {\"lat\": 50.1188, \"lon\": 8.6843},\n",
    "    \"eu-north-1\": {\"lat\": 59.3287, \"lon\": 18.0717},\n",
    "    \"eu-south-1\": {\"lat\": 45.4722, \"lon\": 9.1922},\n",
    "    \"eu-west-1\": {\"lat\": 53.3379, \"lon\": -6.2591},\n",
    "    \"eu-west-2\": {\"lat\": 51.5164, \"lon\": -0.093},\n",
    "    \"eu-west-3\": {\"lat\": 48.8323, \"lon\": 2.4075},\n",
    "    \"sa-east-1\": {\"lat\": -23.5335, \"lon\": -46.6359},\n",
    "    \"us-east-1\": {\"lat\": 39.0469, \"lon\": -77.4903},\n",
    "    \"us-east-2\": {\"lat\": 39.9625, \"lon\": -83.0061},\n",
    "    \"us-west-1\": {\"lat\": 37.1835, \"lon\": -121.7714},\n",
    "    \"us-west-2\": {\"lat\": 45.8234, \"lon\": -119.7257},\n",
    "    \n",
    "    \n",
    "    \"ca-west-1\": {\"lat\": 53.7267, \"lon\": -127.6476},\n",
    "    \"ap-south-2\": {\"lat\": 19.9975, \"lon\": 73.7898},\n",
    "    \"ap-southeast-3\": {\"lat\": 1.3521, \"lon\": 103.8198},\n",
    "    \"ap-southeast-4\": {\"lat\": 1.3521, \"lon\": 103.8198},\n",
    "    \"eu-south-2\": {\"lat\": 41.9028, \"lon\": 12.4964},\n",
    "    \"eu-central-2\": {\"lat\": 50.1109, \"lon\": 8.6821},\n",
    "    \"me-south-1\": {\"lat\": 24.7743, \"lon\": 46.7384},\n",
    "    \"me-central-1\": {\"lat\": 24.7743, \"lon\": 46.7384},\n",
    "    \"il-central-1\": {\"lat\": 31.0461, \"lon\": 34.8516}\n",
    "}\n",
    "\n",
    "# Load sky_mesh.json into function_urls dictionary\n",
    "function_urls = json.load(open(\"sky_mesh.json\"))\n",
    "\n",
    "import os\n",
    "os.environ['OBJC_DISABLE_INITIALIZE_FORK_SAFETY'] = 'YES'\n",
    "\n"
   ]
  },
  {
   "cell_type": "code",
   "execution_count": 19,
   "metadata": {},
   "outputs": [
    {
     "name": "stdout",
     "output_type": "stream",
     "text": [
      "Region:  af-south-1\n",
      "Intel(R) Xeon(R) Processor @ 2.90GHz: 50.00% (5 counts)\n",
      "Intel(R) Xeon(R) Processor @ 2.50GHz: 50.00% (5 counts)\n",
      "\n",
      "\n",
      "Region:  ap-east-1\n",
      "Intel(R) Xeon(R) Processor @ 2.90GHz: 50.00% (5 counts)\n",
      "Intel(R) Xeon(R) Processor @ 2.50GHz: 40.00% (4 counts)\n",
      "Intel(R) Xeon(R) Processor @ 3.00GHz: 10.00% (1 counts)\n",
      "\n",
      "\n",
      "Region:  ap-northeast-1\n",
      "Intel(R) Xeon(R) Processor @ 2.50GHz: 70.43% (374 counts)\n",
      "Intel(R) Xeon(R) Processor @ 3.00GHz: 16.01% (85 counts)\n",
      "Intel(R) Xeon(R) Processor @ 2.90GHz: 11.68% (62 counts)\n",
      "AMD EPYC: 1.88% (10 counts)\n",
      "\n",
      "\n",
      "Region:  ap-northeast-2\n",
      "Intel(R) Xeon(R) Processor @ 2.50GHz: 70.00% (7 counts)\n",
      "Intel(R) Xeon(R) Processor @ 3.00GHz: 30.00% (3 counts)\n",
      "\n",
      "\n",
      "Region:  ap-northeast-3\n",
      "Intel(R) Xeon(R) Processor @ 2.50GHz: 77.05% (470 counts)\n",
      "Intel(R) Xeon(R) Processor @ 2.90GHz: 15.90% (97 counts)\n",
      "Intel(R) Xeon(R) Processor @ 3.00GHz: 7.05% (43 counts)\n",
      "\n",
      "\n",
      "Region:  ap-south-1\n",
      "Intel(R) Xeon(R) Processor @ 2.50GHz: 83.73% (355 counts)\n",
      "Intel(R) Xeon(R) Processor @ 3.00GHz: 8.49% (36 counts)\n",
      "Intel(R) Xeon(R) Processor @ 2.90GHz: 7.78% (33 counts)\n",
      "\n",
      "\n",
      "Region:  ap-southeast-1\n",
      "Intel(R) Xeon(R) Processor @ 2.50GHz: 75.28% (405 counts)\n",
      "Intel(R) Xeon(R) Processor @ 3.00GHz: 14.87% (80 counts)\n",
      "Intel(R) Xeon(R) Processor @ 2.90GHz: 9.67% (52 counts)\n",
      "AMD EPYC: 0.19% (1 counts)\n",
      "\n",
      "\n",
      "Region:  ap-southeast-2\n",
      "Intel(R) Xeon(R) Processor @ 2.50GHz: 70.07% (384 counts)\n",
      "Intel(R) Xeon(R) Processor @ 3.00GHz: 25.73% (141 counts)\n",
      "Intel(R) Xeon(R) Processor @ 2.90GHz: 4.20% (23 counts)\n",
      "\n",
      "\n",
      "Region:  ca-central-1\n",
      "Intel(R) Xeon(R) Processor @ 2.50GHz: 64.71% (486 counts)\n",
      "Intel(R) Xeon(R) Processor @ 2.90GHz: 17.71% (133 counts)\n",
      "AMD EPYC: 13.58% (102 counts)\n",
      "Intel(R) Xeon(R) Processor @ 3.00GHz: 3.99% (30 counts)\n",
      "\n",
      "\n",
      "Region:  eu-central-1\n",
      "Intel(R) Xeon(R) Processor @ 2.50GHz: 88.57% (372 counts)\n",
      "AMD EPYC: 6.67% (28 counts)\n",
      "Intel(R) Xeon(R) Processor @ 3.00GHz: 4.76% (20 counts)\n",
      "\n",
      "\n",
      "Region:  eu-north-1\n",
      "Intel(R) Xeon(R) Processor @ 2.50GHz: 85.26% (457 counts)\n",
      "Intel(R) Xeon(R) Processor @ 3.00GHz: 10.63% (57 counts)\n",
      "Intel(R) Xeon(R) Processor @ 2.90GHz: 4.10% (22 counts)\n",
      "\n",
      "\n",
      "Region:  eu-south-1\n",
      "Intel(R) Xeon(R) Processor @ 2.50GHz: 90.00% (9 counts)\n",
      "AMD EPYC: 10.00% (1 counts)\n",
      "\n",
      "\n",
      "Region:  eu-west-1\n",
      "Intel(R) Xeon(R) Processor @ 2.50GHz: 77.09% (323 counts)\n",
      "Intel(R) Xeon(R) Processor @ 3.00GHz: 21.48% (90 counts)\n",
      "Intel(R) Xeon(R) Processor @ 2.90GHz: 1.43% (6 counts)\n",
      "\n",
      "\n",
      "Region:  eu-west-2\n",
      "Intel(R) Xeon(R) Processor @ 2.50GHz: 72.07% (338 counts)\n",
      "Intel(R) Xeon(R) Processor @ 3.00GHz: 20.68% (97 counts)\n",
      "Intel(R) Xeon(R) Processor @ 2.90GHz: 7.25% (34 counts)\n",
      "\n",
      "\n",
      "Region:  eu-west-3\n",
      "Intel(R) Xeon(R) Processor @ 2.50GHz: 98.27% (455 counts)\n",
      "Intel(R) Xeon(R) Processor @ 2.90GHz: 1.30% (6 counts)\n",
      "Intel(R) Xeon(R) Processor @ 3.00GHz: 0.43% (2 counts)\n",
      "\n",
      "\n",
      "Region:  sa-east-1\n",
      "Intel(R) Xeon(R) Processor @ 2.50GHz: 85.32% (407 counts)\n",
      "Intel(R) Xeon(R) Processor @ 3.00GHz: 7.34% (35 counts)\n",
      "AMD EPYC: 5.03% (24 counts)\n",
      "Intel(R) Xeon(R) Processor @ 2.90GHz: 2.31% (11 counts)\n",
      "\n",
      "\n",
      "Region:  us-east-1\n",
      "Intel(R) Xeon(R) Processor @ 2.50GHz: 80.97% (515 counts)\n",
      "Intel(R) Xeon(R) Processor @ 2.90GHz: 8.65% (55 counts)\n",
      "Intel(R) Xeon(R) Processor @ 3.00GHz: 6.29% (40 counts)\n",
      "AMD EPYC: 4.09% (26 counts)\n",
      "\n",
      "\n",
      "Region:  us-east-2\n",
      "Intel(R) Xeon(R) Processor @ 2.50GHz: 71.93% (351 counts)\n",
      "AMD EPYC: 17.62% (86 counts)\n",
      "Intel(R) Xeon(R) Processor @ 3.00GHz: 9.22% (45 counts)\n",
      "Intel(R) Xeon(R) Processor @ 2.90GHz: 1.23% (6 counts)\n",
      "\n",
      "\n",
      "Region:  us-west-1\n",
      "Intel(R) Xeon(R) Processor @ 2.50GHz: 65.48% (442 counts)\n",
      "Intel(R) Xeon(R) Processor @ 2.90GHz: 25.19% (170 counts)\n",
      "Intel(R) Xeon(R) Processor @ 3.00GHz: 5.33% (36 counts)\n",
      "AMD EPYC: 4.00% (27 counts)\n",
      "\n",
      "\n",
      "Region:  us-west-2\n",
      "Intel(R) Xeon(R) Processor @ 2.50GHz: 67.67% (314 counts)\n",
      "AMD EPYC: 13.79% (64 counts)\n",
      "Intel(R) Xeon(R) Processor @ 3.00GHz: 9.70% (45 counts)\n",
      "Intel(R) Xeon(R) Processor @ 2.90GHz: 8.84% (41 counts)\n",
      "\n",
      "\n",
      "Region:  ap-southeast-3\n",
      "Intel(R) Xeon(R) Processor @ 2.90GHz: 80.00% (8 counts)\n",
      "Intel(R) Xeon(R) Processor @ 3.00GHz: 20.00% (2 counts)\n",
      "\n",
      "\n",
      "Region:  me-south-1\n",
      "Intel(R) Xeon(R) Processor @ 2.90GHz: 55.11% (275 counts)\n",
      "Intel(R) Xeon(R) Processor @ 2.50GHz: 44.89% (224 counts)\n",
      "\n",
      "\n"
     ]
    }
   ],
   "source": [
    "import pandas as pd\n",
    "\n",
    "for region in regions.keys():\n",
    "\n",
    "    try:\n",
    "        # Load the CSV file into a pandas DataFrame\n",
    "        df = pd.read_csv('./functions/fast_experiment/skyf_2048_' + region + '.csv')\n",
    "\n",
    "        # Filter the data to only include rows where the column 'newcontainer' is 1\n",
    "        filtered_df = df[df['newcontainer'] == 1]\n",
    "\n",
    "        # Calculate the number of different 'cpuType's\n",
    "        cpu_counts = filtered_df['cpuType'].value_counts()\n",
    "\n",
    "        # Calculate the percentage of each 'cpuType'\n",
    "        cpu_percentage = cpu_counts / len(filtered_df) * 100\n",
    "\n",
    "        print(\"Region: \", region)\n",
    "\n",
    "        # Print out the percentage and raw count of each 'cpuType'\n",
    "        for cpu_type, count in cpu_counts.items():\n",
    "            percentage = cpu_percentage[cpu_type]\n",
    "            print(f'{cpu_type}: {percentage:.2f}% ({count} counts)')\n",
    "            \n",
    "        print(\"\\n\")\n",
    "    except Exception as e:\n",
    "        pass"
   ]
  },
  {
   "cell_type": "code",
   "execution_count": 24,
   "metadata": {},
   "outputs": [
    {
     "name": "stdout",
     "output_type": "stream",
     "text": [
      "Call Payload: {'f': 'ZGVmIGhlbGxvX3dvcmxkKHJlcXVlc3QsIGluc3BlY3Rvcik6CiAgICBpbnNwZWN0b3IuYWRkQXR0cmlidXRlKCJtZXNzYWdlIiwgIkhlbGxvLCBXb3JsZCEiKQogICAgcmV0dXJuIE5vbmUK'}\n",
      "Run 0.0 successful.\n"
     ]
    }
   ],
   "source": [
    "def hello_world(request, inspector):\n",
    "    inspector.addAttribute(\"message\", \"Hello, World!\")\n",
    "    return None\n",
    "\n",
    "payload = FaaSET.dynamic_get_payload(hello_world, {})\n",
    "\n",
    "old = FaaSRunner.experiment(FaaSET.skyf_1024_arm, 1, 1, [payload], experiment_name=\"speed_comparison4\")\n",
    "\n",
    "new = FaaSRunner.fast_experiment(\"https://b7siw6ue6l3va4ygbuar4tr5c40xfukq.lambda-url.us-west-1.on.aws/\", 1, 1, [payload], experiment_name=\"speed_comparison4\")\n",
    "\n"
   ]
  },
  {
   "cell_type": "code",
   "execution_count": 25,
   "metadata": {},
   "outputs": [
    {
     "data": {
      "text/plain": [
       "1145.62"
      ]
     },
     "execution_count": 25,
     "metadata": {},
     "output_type": "execute_result"
    }
   ],
   "source": [
    "old['latency'].mean()"
   ]
  },
  {
   "cell_type": "code",
   "execution_count": 26,
   "metadata": {},
   "outputs": [
    {
     "data": {
      "text/plain": [
       "258.232666015625"
      ]
     },
     "execution_count": 26,
     "metadata": {},
     "output_type": "execute_result"
    }
   ],
   "source": [
    "new['latency'].mean()"
   ]
  }
 ],
 "metadata": {
  "kernelspec": {
   "display_name": "Python 3",
   "language": "python",
   "name": "python3"
  },
  "language_info": {
   "codemirror_mode": {
    "name": "ipython",
    "version": 3
   },
   "file_extension": ".py",
   "mimetype": "text/x-python",
   "name": "python",
   "nbconvert_exporter": "python",
   "pygments_lexer": "ipython3",
   "version": "3.8.10"
  }
 },
 "nbformat": 4,
 "nbformat_minor": 2
}
