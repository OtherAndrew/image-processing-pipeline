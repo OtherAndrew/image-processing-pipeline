{
 "cells": [
  {
   "cell_type": "code",
   "execution_count": 5,
   "metadata": {},
   "outputs": [],
   "source": [
    "import FaaSET\n",
    "import FaaSETUI\n",
    "import FaaSRunner"
   ]
  },
  {
   "cell_type": "code",
   "execution_count": 3,
   "metadata": {},
   "outputs": [],
   "source": [
    "function_config = {\n",
    "    \"role\": \"arn:aws:iam::616835888336:role/service-role/simple_microservice_role\",\n",
    "    \"memory\": 256,\n",
    "    \"profile\": \"personal\" \n",
    "}"
   ]
  },
  {
   "cell_type": "markdown",
   "metadata": {},
   "source": [
    "# Create a Function\n",
    "\n",
    "Simply write your function in the Jupyter Notebook and it will automatically be deployed when ran. This example highlights using a variety of our tools including SAAF and FaaSETUI."
   ]
  },
  {
   "cell_type": "code",
   "execution_count": 7,
   "metadata": {},
   "outputs": [
    {
     "data": {
      "application/vnd.jupyter.widget-view+json": {
       "model_id": "13bf7d24588045eaab970aa189c564eb",
       "version_major": 2,
       "version_minor": 0
      },
      "text/plain": [
       "HBox(children=(Dropdown(options=('aws-us-east-2', 'aws'), value='aws-us-east-2'), Button(description='Source',…"
      ]
     },
     "metadata": {},
     "output_type": "display_data"
    },
    {
     "name": "stdout",
     "output_type": "stream",
     "text": [
      "Open: ./functions/hello_world/aws-us-east-2/default_config.json\n"
     ]
    }
   ],
   "source": [
    "@FaaSET.cloud_function(platform=\"aws\", config=function_config)\n",
    "def hello_world(request, context): \n",
    "    from SAAF import Inspector\n",
    "    inspector = Inspector() \n",
    "    inspector.inspectAll()\n",
    "    inspector.addAttribute(\"message\", \"Hello from the cloud \" + str(request[\"name\"]) + \"!\")\n",
    "    inspector.inspectAllDeltas()  \n",
    "    return inspector.finish()\n",
    "\n",
    "FaaSETUI.UI(hello_world)\n",
    "\n",
    "hello_world({\"name\": \"Steve\"})[\"message\"]"
   ]
  },
  {
   "cell_type": "markdown",
   "metadata": {},
   "source": [
    "# Managing Functions\n",
    "\n",
    "There are a number of useful commands to help manage your functions."
   ]
  },
  {
   "cell_type": "code",
   "execution_count": 5,
   "metadata": {},
   "outputs": [],
   "source": [
    "FaaSET.deploy(hello_world, platform=\"aws\")\n",
    "FaaSET.duplicate(hello_world, source_platform=\"aws\", new_name=\"aws-us-east-2\")\n",
    "FaaSET.reconfigure(hello_world, platform=\"aws-us-east-2\", override_config={\"profile\": \"personal-us-east-2\"})\n",
    "FaaSET.test(hello_world, payload={\"name\": \"Bob\"}, platform=\"aws-us-east-2\")"
   ]
  },
  {
   "cell_type": "markdown",
   "metadata": {},
   "source": [
    "# Running Experiments\n",
    "\n",
    "Utilize FaaSRunner to create bursts of function calls which are easily imported into Pandas Dataframes enabling visualization and data analysis."
   ]
  },
  {
   "cell_type": "code",
   "execution_count": null,
   "metadata": {},
   "outputs": [],
   "source": [
    "results = FaaSRunner.experiment(hello_world, \n",
    "                      threads=10, \n",
    "                      runs_per_thread=1, \n",
    "                      payloads=[{\"name\": \"Steve\"}])\n",
    "\n",
    "results"
   ]
  },
  {
   "cell_type": "markdown",
   "metadata": {},
   "source": [
    "# Running FaaSET functions without defining them\n",
    "\n",
    "If you have previously deployed a function in FaaSET and want to run it without having to run every cell above, or if you're using a different Notebook/Python file, you can run them as shown below:"
   ]
  },
  {
   "cell_type": "code",
   "execution_count": 1,
   "metadata": {},
   "outputs": [
    {
     "name": "stdout",
     "output_type": "stream",
     "text": [
      "------------------------------------------------------\n",
      "             Welcome to FaaSET v3.1!\n",
      "------------------------------------------------------\n",
      "Available platforms:  demo. ibm_code_engine. aws_docker_arm. aws_docker_debian. azure. aws_function_url. aws_docker. google. oracle. google_gen2. openfaas_eks. digital_ocean. ibm. local. aws_api_gateway. aws_boto3. ibm_docker. aws. openfaas. \n",
      "------------------------------------------------------\n",
      "Loaded functions:  hello_world. \n"
     ]
    },
    {
     "data": {
      "text/plain": [
       "'Hello from the cloud Steve!'"
      ]
     },
     "execution_count": 1,
     "metadata": {},
     "output_type": "execute_result"
    }
   ],
   "source": [
    "import FaaSET\n",
    "\n",
    "FaaSET.hello_world({\"name\": \"Steve\"})[\"message\"]"
   ]
  }
 ],
 "metadata": {
  "kernelspec": {
   "display_name": "Python 3",
   "language": "python",
   "name": "python3"
  },
  "language_info": {
   "codemirror_mode": {
    "name": "ipython",
    "version": 3
   },
   "file_extension": ".py",
   "mimetype": "text/x-python",
   "name": "python",
   "nbconvert_exporter": "python",
   "pygments_lexer": "ipython3",
   "version": "3.8.10"
  }
 },
 "nbformat": 4,
 "nbformat_minor": 2
}
