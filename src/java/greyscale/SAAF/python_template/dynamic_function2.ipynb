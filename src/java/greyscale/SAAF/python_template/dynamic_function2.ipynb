{
 "cells": [
  {
   "cell_type": "code",
   "execution_count": 5,
   "metadata": {},
   "outputs": [],
   "source": [
    "import FaaSET\n",
    "import FaaSETUI\n",
    "import FaaSRunner"
   ]
  },
  {
   "cell_type": "code",
   "execution_count": 3,
   "metadata": {},
   "outputs": [],
   "source": [
    "function_config = {\n",
    "    \"role\": \"arn:aws:iam::616835888336:role/service-role/simple_microservice_role\",\n",
    "    \"memory\": 256,\n",
    "    \"profile\": \"personal\"\n",
    "}"
   ]
  },
  {
   "cell_type": "markdown",
   "metadata": {},
   "source": [
    "# Create a Function\n",
    "\n",
    "Simply write your function in the Jupyter Notebook and it will automatically be deployed when ran. This example highlights using a variety of our tools including SAAF and FaaSETUI."
   ]
  },
  {
   "cell_type": "code",
   "execution_count": null,
   "metadata": {},
   "outputs": [
    {
     "data": {
      "application/vnd.jupyter.widget-view+json": {
       "model_id": "13bf7d24588045eaab970aa189c564eb",
       "version_major": 2,
       "version_minor": 0
      },
      "text/plain": [
       "HBox(children=(Dropdown(options=('aws-us-east-2', 'aws'), value='aws-us-east-2'), Button(description='Source',…"
      ]
     },
     "metadata": {},
     "output_type": "display_data"
    },
    {
     "name": "stdout",
     "output_type": "stream",
     "text": [
      "Open: ./functions/hello_world/aws-us-east-2/default_config.json\n"
     ]
    }
   ],
   "source": [
    "@FaaSET.cloud_function(platform=\"aws\", config=function_config)\n",
    "def dynamic_function2(request, context): \n",
    "    from SAAF import Inspector\n",
    "    import base64\n",
    "    inspector = Inspector()  \n",
    "    inspector.inspectAll()\n",
    "    try:  \n",
    "        encoded_code = request['f']\n",
    "        if 'd' in request:\n",
    "            import zipfile\n",
    "            import sys\n",
    "            encoded_dependencies = request['d']\n",
    "            decoded_data = base64.b64decode(encoded_dependencies)\n",
    "            with open('/tmp/dependencies.zip', 'wb') as f:\n",
    "                f.write(decoded_data)\n",
    "            with zipfile.ZipFile('/tmp/dependencies.zip', 'r') as zip_ref:\n",
    "                zip_ref.extractall('/tmp')\n",
    "            sys.path.append('/tmp')\n",
    "            \n",
    "        source = base64.b64decode(encoded_code).decode('utf-8')\n",
    "        name = source.split(\"\\n\")[0].replace(\"def \", \"\").replace(\"(request, inspector):\", \"\").strip()\n",
    "        inspector.addAttribute(\"functionName\", name) \n",
    "        exec(source + \"\\n\" + 'inspector.addAttribute(\"return\",' + name + \"(\" + str(request) + \", inspector))\")\n",
    "    except Exception as e:   \n",
    "        inspector.addAttribute(\"dynamic_function_error\", str(e))\n",
    "    inspector.inspectAllDeltas() \n",
    "    return inspector.finish() \n",
    "\n",
    "FaaSETUI.UI(dynamic_function2)\n",
    "\n",
    "dynamic_function2({\"name\": \"Steve\"})[\"message\"]"
   ]
  },
  {
   "cell_type": "code",
   "execution_count": null,
   "metadata": {},
   "outputs": [],
   "source": [
    "def hello_world(request, inspector):\n",
    "    inspector.addAttribute(\"message\", \"Hello, World!\")\n",
    "    return None\n",
    "\n",
    "dynamic_function2(FaaSET.dynamic_get_payload(hello_world, {}))"
   ]
  }
 ],
 "metadata": {
  "kernelspec": {
   "display_name": "Python 3",
   "language": "python",
   "name": "python3"
  },
  "language_info": {
   "codemirror_mode": {
    "name": "ipython",
    "version": 3
   },
   "file_extension": ".py",
   "mimetype": "text/x-python",
   "name": "python",
   "nbconvert_exporter": "python",
   "pygments_lexer": "ipython3",
   "version": "3.8.10"
  }
 },
 "nbformat": 4,
 "nbformat_minor": 2
}
